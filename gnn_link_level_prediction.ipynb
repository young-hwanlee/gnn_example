{
  "nbformat": 4,
  "nbformat_minor": 0,
  "metadata": {
    "colab": {
      "provenance": [],
      "authorship_tag": "ABX9TyNSltRsPuaOR3r22P5ODrXl",
      "include_colab_link": true
    },
    "kernelspec": {
      "name": "python3",
      "display_name": "Python 3"
    },
    "language_info": {
      "name": "python"
    }
  },
  "cells": [
    {
      "cell_type": "markdown",
      "metadata": {
        "id": "view-in-github",
        "colab_type": "text"
      },
      "source": [
        "<a href=\"https://colab.research.google.com/github/young-hwanlee/gnn_example/blob/main/gnn_link_level_prediction.ipynb\" target=\"_parent\"><img src=\"https://colab.research.google.com/assets/colab-badge.svg\" alt=\"Open In Colab\"/></a>"
      ]
    },
    {
      "cell_type": "code",
      "execution_count": null,
      "metadata": {
        "id": "78jdlXgDHYTO"
      },
      "outputs": [],
      "source": [
        "!git clone https://github.com/young-hwanlee/gnn_example.git"
      ]
    },
    {
      "cell_type": "code",
      "source": [
        "# ## To avoid some errors (출처: https://life-is-potatoo.tistory.com/95 [삶은 감자:티스토리]) ==========\n",
        "# ## 1st method\n",
        "# import torch\n",
        "# device = torch.device('cuda' if torch.cuda.is_available() else 'cpu')\n",
        "\n",
        "# def format_pytorch_version(version):\n",
        "#     return version.split('+')[0]\n",
        "\n",
        "# TORCH_version = torch.__version__\n",
        "# TORCH = format_pytorch_version(TORCH_version)\n",
        "# def format_cuda_version(version):\n",
        "#     return 'cu' + version.replace('.', '')\n",
        "\n",
        "# CUDA_version = torch.version.cuda\n",
        "# CUDA = format_cuda_version(CUDA_version)\n",
        "\n",
        "## Ensure that the PyTorch and the PyG are the same version\n",
        "# !pip install torch-scatter     -f https://pytorch-geometric.com/whl/torch-{TORCH}+{CUDA}.html\n",
        "# !pip install torch-sparse      -f https://pytorch-geometric.com/whl/torch-{TORCH}+{CUDA}.html\n",
        "# !pip install torch-cluster     -f https://pytorch-geometric.com/whl/torch-{TORCH}+{CUDA}.html\n",
        "# !pip install torch-spline-conv -f https://pytorch-geometric.com/whl/torch-{TORCH}+{CUDA}.html\n",
        "# !pip install torch-geometric\n",
        "\n",
        "## 2nd method\n",
        "import os\n",
        "import torch\n",
        "device = torch.device('cuda' if torch.cuda.is_available() else 'cpu')\n",
        "\n",
        "os.environ['TORCH'] = torch.__version__\n",
        "print(torch.__version__)\n",
        "\n",
        "# !pip install torch_geometric\n",
        "\n",
        "## Ensure that the PyTorch and the PyG are the same version\n",
        "!pip install -q torch-scatter -f https://data.pyg.org/whl/torch-${TORCH}.html\n",
        "!pip install -q torch-sparse -f https://data.pyg.org/whl/torch-${TORCH}.html\n",
        "!pip install -q git+https://github.com/pyg-team/pytorch_geometric.git\n",
        "!pip install pytorch_metric_learning\n",
        "\n",
        "## Both methods are too slow."
      ],
      "metadata": {
        "id": "ESEnouMPHe5H"
      },
      "execution_count": null,
      "outputs": []
    },
    {
      "cell_type": "code",
      "source": [
        "## Import required packages ====================================================================\n",
        "# import torch.nn as nn\n",
        "import torch.nn.functional as F\n",
        "import torch_geometric\n",
        "from torch_geometric.nn import GCNConv"
      ],
      "metadata": {
        "id": "sEIwi5JJHe1j"
      },
      "execution_count": null,
      "outputs": []
    },
    {
      "cell_type": "code",
      "source": [
        "# Load a dataset:\n",
        "dataset = Reddit(root)\n",
        "\n",
        "# Create a mini-batch loader:\n",
        "loader = LinkNeighborLoader(dataset[0], num_neighbors=[25, 10])\n",
        "\n",
        "# Create your GNN model:\n",
        "class GNN(torch.nn.Module):\n",
        "    def __init__(self):\n",
        "        # Choose between different GNN building blocks:\n",
        "        self.encoder = GraphSAGE(dataset.num_features, 16, num_layers=2)\n",
        "        Self.decoder = InnerProductDecoder()\n",
        "\n",
        "    def forward(self, x, edge_index, edge_label_index):\n",
        "        x = self.encoder(x, edge_index)\n",
        "        return self.decoder(x, edge_label_index)\n",
        "\n",
        "# Train your GNN model:\n",
        "for data in loader:\n",
        "    y_hat = model(data.x, data.edge_index, data.edge_label_index)\n",
        "    loss = criterion(y_hat, data.edge_label)"
      ],
      "metadata": {
        "id": "NOsrsmtOHeyG"
      },
      "execution_count": null,
      "outputs": []
    },
    {
      "cell_type": "code",
      "source": [],
      "metadata": {
        "id": "_RWS5uKQHevP"
      },
      "execution_count": null,
      "outputs": []
    },
    {
      "cell_type": "code",
      "source": [],
      "metadata": {
        "id": "DNBitEAxHesO"
      },
      "execution_count": null,
      "outputs": []
    },
    {
      "cell_type": "code",
      "source": [],
      "metadata": {
        "id": "El9HiTkhHepP"
      },
      "execution_count": null,
      "outputs": []
    },
    {
      "cell_type": "code",
      "source": [],
      "metadata": {
        "id": "CvvtZh5PHeme"
      },
      "execution_count": null,
      "outputs": []
    },
    {
      "cell_type": "code",
      "source": [],
      "metadata": {
        "id": "kX4v2gqqHejV"
      },
      "execution_count": null,
      "outputs": []
    },
    {
      "cell_type": "code",
      "source": [],
      "metadata": {
        "id": "bgYpPka8HegH"
      },
      "execution_count": null,
      "outputs": []
    },
    {
      "cell_type": "code",
      "source": [],
      "metadata": {
        "id": "V0xWCKM-HeTV"
      },
      "execution_count": null,
      "outputs": []
    }
  ]
}