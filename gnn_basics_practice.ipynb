{
  "nbformat": 4,
  "nbformat_minor": 0,
  "metadata": {
    "colab": {
      "provenance": [],
      "authorship_tag": "ABX9TyPFbFsTEeXWKyTHYFu8tWKG",
      "include_colab_link": true
    },
    "kernelspec": {
      "name": "python3",
      "display_name": "Python 3"
    },
    "language_info": {
      "name": "python"
    }
  },
  "cells": [
    {
      "cell_type": "markdown",
      "metadata": {
        "id": "view-in-github",
        "colab_type": "text"
      },
      "source": [
        "<a href=\"https://colab.research.google.com/github/young-hwanlee/gnn_example/blob/main/gnn_basics_practice.ipynb\" target=\"_parent\"><img src=\"https://colab.research.google.com/assets/colab-badge.svg\" alt=\"Open In Colab\"/></a>"
      ]
    },
    {
      "cell_type": "code",
      "execution_count": 1,
      "metadata": {
        "colab": {
          "base_uri": "https://localhost:8080/"
        },
        "id": "1RkU4_rqMkkw",
        "outputId": "c92da8c4-3483-47e0-f76c-1c0e2265b038"
      },
      "outputs": [
        {
          "output_type": "stream",
          "name": "stdout",
          "text": [
            "fatal: destination path 'gnn_example' already exists and is not an empty directory.\n"
          ]
        }
      ],
      "source": [
        "!git clone https://github.com/young-hwanlee/gnn_example.git"
      ]
    },
    {
      "cell_type": "markdown",
      "source": [
        "# **PyG Basics**"
      ],
      "metadata": {
        "id": "8U4auE_lxzx9"
      }
    },
    {
      "cell_type": "code",
      "source": [
        "import torch\n",
        "\n",
        "x = torch.tensor([[-1], [0], [1]], dtype=torch.float)\n",
        "edge_index = torch.tensor([[0, 1, 1, 2],    # 출발 노드 인덱스\n",
        "                                             [1, 0, 2, 1]],   # 도착 노드 인덱스\n",
        "                          dtype=torch.long)"
      ],
      "metadata": {
        "id": "o2O_QjzZwcAh"
      },
      "execution_count": 2,
      "outputs": []
    },
    {
      "cell_type": "code",
      "source": [
        "print(x)\n",
        "print(edge_index)"
      ],
      "metadata": {
        "colab": {
          "base_uri": "https://localhost:8080/"
        },
        "id": "ZfaAnF-kwwsH",
        "outputId": "ae06583f-db9b-4ee0-e179-cf8217bd55d8"
      },
      "execution_count": 3,
      "outputs": [
        {
          "output_type": "stream",
          "name": "stdout",
          "text": [
            "tensor([[-1.],\n",
            "        [ 0.],\n",
            "        [ 1.]])\n",
            "tensor([[0, 1, 1, 2],\n",
            "        [1, 0, 2, 1]])\n"
          ]
        }
      ]
    },
    {
      "cell_type": "code",
      "source": [
        "from torch_geometric.data import Data\n",
        "\n",
        "data = Data(x=x, edge_index=edge_index)\n",
        "print(data)"
      ],
      "metadata": {
        "colab": {
          "base_uri": "https://localhost:8080/"
        },
        "id": "s7ZQAbnvw58m",
        "outputId": "2e9a5ee6-47ca-4e9f-c7b8-83d1dca5dc91"
      },
      "execution_count": 4,
      "outputs": [
        {
          "output_type": "stream",
          "name": "stdout",
          "text": [
            "Data(x=[3, 1], edge_index=[2, 4])\n"
          ]
        }
      ]
    },
    {
      "cell_type": "code",
      "source": [
        "data.num_nodes"
      ],
      "metadata": {
        "colab": {
          "base_uri": "https://localhost:8080/"
        },
        "id": "ewTNrN5nxSHy",
        "outputId": "64e12cd0-7369-4c18-e5bf-ca4002dd97f6"
      },
      "execution_count": 5,
      "outputs": [
        {
          "output_type": "execute_result",
          "data": {
            "text/plain": [
              "3"
            ]
          },
          "metadata": {},
          "execution_count": 5
        }
      ]
    },
    {
      "cell_type": "code",
      "source": [
        "data.num_edges"
      ],
      "metadata": {
        "colab": {
          "base_uri": "https://localhost:8080/"
        },
        "id": "4lc6ijZzxfew",
        "outputId": "a5f0a9be-1cde-4ef8-8322-6e8b9dcc4871"
      },
      "execution_count": 6,
      "outputs": [
        {
          "output_type": "execute_result",
          "data": {
            "text/plain": [
              "4"
            ]
          },
          "metadata": {},
          "execution_count": 6
        }
      ]
    },
    {
      "cell_type": "code",
      "source": [
        "data.has_isolated_nodes()"
      ],
      "metadata": {
        "colab": {
          "base_uri": "https://localhost:8080/"
        },
        "id": "JoTv_tBFxkJ1",
        "outputId": "b3b5de81-ca1e-4e4b-ed4e-c39c8b3486f8"
      },
      "execution_count": 7,
      "outputs": [
        {
          "output_type": "execute_result",
          "data": {
            "text/plain": [
              "False"
            ]
          },
          "metadata": {},
          "execution_count": 7
        }
      ]
    },
    {
      "cell_type": "code",
      "source": [
        "data.has_self_loops()"
      ],
      "metadata": {
        "colab": {
          "base_uri": "https://localhost:8080/"
        },
        "id": "x7Uml5kKxpoS",
        "outputId": "79439500-cbd2-45c8-beda-34872205514a"
      },
      "execution_count": 8,
      "outputs": [
        {
          "output_type": "execute_result",
          "data": {
            "text/plain": [
              "False"
            ]
          },
          "metadata": {},
          "execution_count": 8
        }
      ]
    },
    {
      "cell_type": "code",
      "source": [
        "data.is_directed()"
      ],
      "metadata": {
        "colab": {
          "base_uri": "https://localhost:8080/"
        },
        "id": "AwgAbpLVxuGt",
        "outputId": "2947ac3e-9270-4e6d-e737-6bf9c1dfc737"
      },
      "execution_count": 9,
      "outputs": [
        {
          "output_type": "execute_result",
          "data": {
            "text/plain": [
              "False"
            ]
          },
          "metadata": {},
          "execution_count": 9
        }
      ]
    },
    {
      "cell_type": "markdown",
      "source": [
        "# **Dataset Example 1**"
      ],
      "metadata": {
        "id": "zf5F0Nalye09"
      }
    },
    {
      "cell_type": "code",
      "source": [
        "!pip install fsspec==2024.3.1"
      ],
      "metadata": {
        "colab": {
          "base_uri": "https://localhost:8080/"
        },
        "id": "jFcxoObtz7Wg",
        "outputId": "bf23bf94-2b9e-43ca-978d-e748e95a0104"
      },
      "execution_count": 10,
      "outputs": [
        {
          "output_type": "stream",
          "name": "stdout",
          "text": [
            "Requirement already satisfied: fsspec==2024.3.1 in /usr/local/lib/python3.10/dist-packages (2024.3.1)\n"
          ]
        }
      ]
    },
    {
      "cell_type": "code",
      "source": [
        "from torch_geometric.datasets import TUDataset\n",
        "\n",
        "dataset = TUDataset(root='/tmp/ENZYMES/', name='ENZYMES')\n",
        "print(dataset)"
      ],
      "metadata": {
        "colab": {
          "base_uri": "https://localhost:8080/"
        },
        "id": "_GjpuVyFyfNR",
        "outputId": "f4379020-69bb-4f9f-bc21-c4d958f49298"
      },
      "execution_count": 11,
      "outputs": [
        {
          "output_type": "stream",
          "name": "stdout",
          "text": [
            "ENZYMES(600)\n"
          ]
        }
      ]
    },
    {
      "cell_type": "code",
      "source": [
        "len(dataset)"
      ],
      "metadata": {
        "colab": {
          "base_uri": "https://localhost:8080/"
        },
        "id": "t81KWy-62rvj",
        "outputId": "b057fdce-f9f3-4ec9-b83d-97cec7d0e181"
      },
      "execution_count": 12,
      "outputs": [
        {
          "output_type": "execute_result",
          "data": {
            "text/plain": [
              "600"
            ]
          },
          "metadata": {},
          "execution_count": 12
        }
      ]
    },
    {
      "cell_type": "code",
      "source": [
        "dataset.num_classes"
      ],
      "metadata": {
        "colab": {
          "base_uri": "https://localhost:8080/"
        },
        "id": "AZvrIRDL0dZx",
        "outputId": "02291274-7b19-42a7-f805-7af68582d594"
      },
      "execution_count": 13,
      "outputs": [
        {
          "output_type": "execute_result",
          "data": {
            "text/plain": [
              "6"
            ]
          },
          "metadata": {},
          "execution_count": 13
        }
      ]
    },
    {
      "cell_type": "code",
      "source": [
        "dataset.num_node_features"
      ],
      "metadata": {
        "colab": {
          "base_uri": "https://localhost:8080/"
        },
        "id": "HwoYXaxfyfg1",
        "outputId": "11997f87-6e20-49e5-faf6-9aa3f821dc25"
      },
      "execution_count": 14,
      "outputs": [
        {
          "output_type": "execute_result",
          "data": {
            "text/plain": [
              "3"
            ]
          },
          "metadata": {},
          "execution_count": 14
        }
      ]
    },
    {
      "cell_type": "code",
      "source": [
        "data = dataset[0]\n",
        "print(data)"
      ],
      "metadata": {
        "colab": {
          "base_uri": "https://localhost:8080/"
        },
        "id": "rhKn90CPJGuY",
        "outputId": "e802ce62-5657-4970-9a2c-f9c320429f25"
      },
      "execution_count": 15,
      "outputs": [
        {
          "output_type": "stream",
          "name": "stdout",
          "text": [
            "Data(edge_index=[2, 168], x=[37, 3], y=[1])\n"
          ]
        }
      ]
    },
    {
      "cell_type": "code",
      "source": [
        "data.is_undirected()"
      ],
      "metadata": {
        "colab": {
          "base_uri": "https://localhost:8080/"
        },
        "id": "GgNdO0y4P5jO",
        "outputId": "132a79aa-3310-4a3a-f671-3e9ca5d993f3"
      },
      "execution_count": 16,
      "outputs": [
        {
          "output_type": "execute_result",
          "data": {
            "text/plain": [
              "True"
            ]
          },
          "metadata": {},
          "execution_count": 16
        }
      ]
    },
    {
      "cell_type": "code",
      "source": [
        "train_dataset = dataset[:540]\n",
        "print(train_dataset)"
      ],
      "metadata": {
        "colab": {
          "base_uri": "https://localhost:8080/"
        },
        "id": "Xu_CF56DJDZI",
        "outputId": "62664428-18d2-4dae-b9b5-4f7c39dd15e4"
      },
      "execution_count": 17,
      "outputs": [
        {
          "output_type": "stream",
          "name": "stdout",
          "text": [
            "ENZYMES(540)\n"
          ]
        }
      ]
    },
    {
      "cell_type": "code",
      "source": [
        "test_dataset = dataset[540:]\n",
        "print(test_dataset)"
      ],
      "metadata": {
        "colab": {
          "base_uri": "https://localhost:8080/"
        },
        "id": "PpvGL3tYxU5T",
        "outputId": "0efbedb1-226d-40e3-8e52-1a42c274bf4f"
      },
      "execution_count": 18,
      "outputs": [
        {
          "output_type": "stream",
          "name": "stdout",
          "text": [
            "ENZYMES(60)\n"
          ]
        }
      ]
    },
    {
      "cell_type": "markdown",
      "source": [
        "# **Dataset Example 2**"
      ],
      "metadata": {
        "id": "_C1Tx2kh2JeH"
      }
    },
    {
      "cell_type": "code",
      "source": [
        "from torch_geometric.datasets import planetoid\n",
        "\n",
        "dataset = planetoid.Planetoid(root='/tmp/Cora', name='Cora')\n",
        "print(dataset)"
      ],
      "metadata": {
        "colab": {
          "base_uri": "https://localhost:8080/"
        },
        "id": "IeIUIi__JtmQ",
        "outputId": "b0e08aff-a648-4c5d-dff2-459bf3a117e4"
      },
      "execution_count": 19,
      "outputs": [
        {
          "output_type": "stream",
          "name": "stdout",
          "text": [
            "Cora()\n"
          ]
        }
      ]
    },
    {
      "cell_type": "code",
      "source": [
        "len(dataset)"
      ],
      "metadata": {
        "colab": {
          "base_uri": "https://localhost:8080/"
        },
        "id": "Wac4mzRfxVW4",
        "outputId": "493b7cce-330e-480d-9700-45346747a0cb"
      },
      "execution_count": 20,
      "outputs": [
        {
          "output_type": "execute_result",
          "data": {
            "text/plain": [
              "1"
            ]
          },
          "metadata": {},
          "execution_count": 20
        }
      ]
    },
    {
      "cell_type": "code",
      "source": [
        "dataset.num_classes"
      ],
      "metadata": {
        "colab": {
          "base_uri": "https://localhost:8080/"
        },
        "id": "79IdoE-BxVdH",
        "outputId": "b1522772-3847-44d5-84ab-63f825e2bb18"
      },
      "execution_count": 21,
      "outputs": [
        {
          "output_type": "execute_result",
          "data": {
            "text/plain": [
              "7"
            ]
          },
          "metadata": {},
          "execution_count": 21
        }
      ]
    },
    {
      "cell_type": "code",
      "source": [
        "dataset.num_node_features"
      ],
      "metadata": {
        "colab": {
          "base_uri": "https://localhost:8080/"
        },
        "id": "BXSQDU_VxVjC",
        "outputId": "c3dfe007-394d-4deb-dbf5-a7be1bdfbd46"
      },
      "execution_count": 22,
      "outputs": [
        {
          "output_type": "execute_result",
          "data": {
            "text/plain": [
              "1433"
            ]
          },
          "metadata": {},
          "execution_count": 22
        }
      ]
    },
    {
      "cell_type": "code",
      "source": [
        "data = dataset[0]\n",
        "print(data)"
      ],
      "metadata": {
        "colab": {
          "base_uri": "https://localhost:8080/"
        },
        "id": "zGN9Yxvt25S8",
        "outputId": "86d3abd0-b3c6-4f57-9288-f262dae7590b"
      },
      "execution_count": 23,
      "outputs": [
        {
          "output_type": "stream",
          "name": "stdout",
          "text": [
            "Data(x=[2708, 1433], edge_index=[2, 10556], y=[2708], train_mask=[2708], val_mask=[2708], test_mask=[2708])\n"
          ]
        }
      ]
    },
    {
      "cell_type": "code",
      "source": [
        "data.is_undirected()"
      ],
      "metadata": {
        "colab": {
          "base_uri": "https://localhost:8080/"
        },
        "id": "2PXQRXr_25Zd",
        "outputId": "d5029990-8699-4dea-8c0c-d0584f8c2a5a"
      },
      "execution_count": 24,
      "outputs": [
        {
          "output_type": "execute_result",
          "data": {
            "text/plain": [
              "True"
            ]
          },
          "metadata": {},
          "execution_count": 24
        }
      ]
    },
    {
      "cell_type": "code",
      "source": [
        "data.train_mask.sum().item()"
      ],
      "metadata": {
        "colab": {
          "base_uri": "https://localhost:8080/"
        },
        "id": "SnuTTmrO25ec",
        "outputId": "93cd6c47-218a-4c78-a123-71a16dbbe08e"
      },
      "execution_count": 25,
      "outputs": [
        {
          "output_type": "execute_result",
          "data": {
            "text/plain": [
              "140"
            ]
          },
          "metadata": {},
          "execution_count": 25
        }
      ]
    },
    {
      "cell_type": "code",
      "source": [
        "data.val_mask.sum().item()"
      ],
      "metadata": {
        "colab": {
          "base_uri": "https://localhost:8080/"
        },
        "id": "aiKTkDvf4Ffs",
        "outputId": "59ac1ee7-7e09-4349-ed03-d2a4136296e7"
      },
      "execution_count": 26,
      "outputs": [
        {
          "output_type": "execute_result",
          "data": {
            "text/plain": [
              "500"
            ]
          },
          "metadata": {},
          "execution_count": 26
        }
      ]
    },
    {
      "cell_type": "code",
      "source": [
        "data.test_mask.sum().item()"
      ],
      "metadata": {
        "colab": {
          "base_uri": "https://localhost:8080/"
        },
        "id": "PWIQhnik4FlU",
        "outputId": "db95ea75-be0e-4956-d137-3dada7752406"
      },
      "execution_count": 27,
      "outputs": [
        {
          "output_type": "execute_result",
          "data": {
            "text/plain": [
              "1000"
            ]
          },
          "metadata": {},
          "execution_count": 27
        }
      ]
    },
    {
      "cell_type": "markdown",
      "source": [
        "# **Mini-Batch Loader**"
      ],
      "metadata": {
        "id": "RrpG2mG-5qnb"
      }
    },
    {
      "cell_type": "code",
      "source": [
        "from torch_geometric.datasets import TUDataset\n",
        "from torch_geometric.data import DataLoader\n",
        "\n",
        "dataset = TUDataset(root='/tmp/ENZYMES/', name='ENZYMES', use_node_attr=True)\n",
        "loader = DataLoader(dataset, batch_size=32, shuffle=True)"
      ],
      "metadata": {
        "colab": {
          "base_uri": "https://localhost:8080/"
        },
        "id": "umARpBue4VfM",
        "outputId": "0e9bdf0e-5d01-4cde-8cda-e9766ed01e74"
      },
      "execution_count": 28,
      "outputs": [
        {
          "output_type": "stream",
          "name": "stderr",
          "text": [
            "/usr/local/lib/python3.10/dist-packages/torch_geometric/deprecation.py:26: UserWarning: 'data.DataLoader' is deprecated, use 'loader.DataLoader' instead\n",
            "  warnings.warn(out)\n"
          ]
        }
      ]
    },
    {
      "cell_type": "code",
      "source": [
        "print(loader)"
      ],
      "metadata": {
        "colab": {
          "base_uri": "https://localhost:8080/"
        },
        "id": "loRb-D0K6jd5",
        "outputId": "37baa41e-3c42-460a-bd54-2fde0ece6b22"
      },
      "execution_count": 29,
      "outputs": [
        {
          "output_type": "stream",
          "name": "stdout",
          "text": [
            "<torch_geometric.deprecation.DataLoader object at 0x7e70e9696530>\n"
          ]
        }
      ]
    },
    {
      "cell_type": "code",
      "source": [
        "for batch in loader:\n",
        "  print(batch)\n",
        "  print(batch.num_graphs)"
      ],
      "metadata": {
        "colab": {
          "base_uri": "https://localhost:8080/"
        },
        "id": "bpgJD4KW4VkE",
        "outputId": "a0fc9f2a-4944-462a-fc1b-6669ff1cea11"
      },
      "execution_count": 30,
      "outputs": [
        {
          "output_type": "stream",
          "name": "stdout",
          "text": [
            "DataBatch(edge_index=[2, 4630], x=[1171, 21], y=[32], batch=[1171], ptr=[33])\n",
            "32\n",
            "DataBatch(edge_index=[2, 4398], x=[1125, 21], y=[32], batch=[1125], ptr=[33])\n",
            "32\n",
            "DataBatch(edge_index=[2, 4186], x=[1040, 21], y=[32], batch=[1040], ptr=[33])\n",
            "32\n",
            "DataBatch(edge_index=[2, 3482], x=[885, 21], y=[32], batch=[885], ptr=[33])\n",
            "32\n",
            "DataBatch(edge_index=[2, 3838], x=[1064, 21], y=[32], batch=[1064], ptr=[33])\n",
            "32\n",
            "DataBatch(edge_index=[2, 4296], x=[1145, 21], y=[32], batch=[1145], ptr=[33])\n",
            "32\n",
            "DataBatch(edge_index=[2, 4112], x=[1013, 21], y=[32], batch=[1013], ptr=[33])\n",
            "32\n",
            "DataBatch(edge_index=[2, 3928], x=[1052, 21], y=[32], batch=[1052], ptr=[33])\n",
            "32\n",
            "DataBatch(edge_index=[2, 4294], x=[1140, 21], y=[32], batch=[1140], ptr=[33])\n",
            "32\n",
            "DataBatch(edge_index=[2, 3642], x=[961, 21], y=[32], batch=[961], ptr=[33])\n",
            "32\n",
            "DataBatch(edge_index=[2, 4008], x=[1109, 21], y=[32], batch=[1109], ptr=[33])\n",
            "32\n",
            "DataBatch(edge_index=[2, 3694], x=[976, 21], y=[32], batch=[976], ptr=[33])\n",
            "32\n",
            "DataBatch(edge_index=[2, 4026], x=[1050, 21], y=[32], batch=[1050], ptr=[33])\n",
            "32\n",
            "DataBatch(edge_index=[2, 3542], x=[920, 21], y=[32], batch=[920], ptr=[33])\n",
            "32\n",
            "DataBatch(edge_index=[2, 4202], x=[1118, 21], y=[32], batch=[1118], ptr=[33])\n",
            "32\n",
            "DataBatch(edge_index=[2, 4238], x=[1161, 21], y=[32], batch=[1161], ptr=[33])\n",
            "32\n",
            "DataBatch(edge_index=[2, 3390], x=[864, 21], y=[32], batch=[864], ptr=[33])\n",
            "32\n",
            "DataBatch(edge_index=[2, 3854], x=[1014, 21], y=[32], batch=[1014], ptr=[33])\n",
            "32\n",
            "DataBatch(edge_index=[2, 2804], x=[772, 21], y=[24], batch=[772], ptr=[25])\n",
            "24\n"
          ]
        }
      ]
    },
    {
      "cell_type": "markdown",
      "source": [
        "# **Data Transform**"
      ],
      "metadata": {
        "id": "XnpIH5Jr7K8U"
      }
    },
    {
      "cell_type": "code",
      "source": [
        "from torch_geometric.datasets import ShapeNet\n",
        "\n",
        "dataset = ShapeNet(root='/tmp/ShapeNet', categories=['Airplane'], force_reload=True)\n",
        "print(dataset[0])"
      ],
      "metadata": {
        "colab": {
          "base_uri": "https://localhost:8080/"
        },
        "id": "y65Y4VDm4VoW",
        "outputId": "12b2faf4-9b21-4275-c7a8-1337e3094ab5"
      },
      "execution_count": 31,
      "outputs": [
        {
          "output_type": "stream",
          "name": "stderr",
          "text": [
            "/usr/local/lib/python3.10/dist-packages/torch_geometric/data/dataset.py:239: UserWarning: The `pre_transform` argument differs from the one used in the pre-processed version of this dataset. If you want to make use of another pre-processing technique, pass `force_reload=True` explicitly to reload the dataset.\n",
            "  warnings.warn(\n",
            "Processing...\n"
          ]
        },
        {
          "output_type": "stream",
          "name": "stdout",
          "text": [
            "Data(x=[2518, 3], y=[2518], pos=[2518, 3], category=[1])\n"
          ]
        },
        {
          "output_type": "stream",
          "name": "stderr",
          "text": [
            "Done!\n"
          ]
        }
      ]
    },
    {
      "cell_type": "code",
      "source": [
        "import torch_geometric.transforms as T\n",
        "from torch_geometric.datasets import ShapeNet\n",
        "\n",
        "dataset = ShapeNet(root='/tmp/ShapeNet', categories=['Airplane'],\n",
        "                   pre_transform=T.KNNGraph(k=6),\n",
        "                   transform=T.RandomJitter(0.01), force_reload=True)\n",
        "print(dataset[0])"
      ],
      "metadata": {
        "colab": {
          "base_uri": "https://localhost:8080/"
        },
        "id": "17koxsmk4FrU",
        "outputId": "d0ed4c50-9712-4a88-d77c-8185a4ccbb18"
      },
      "execution_count": 32,
      "outputs": [
        {
          "output_type": "stream",
          "name": "stderr",
          "text": [
            "Processing...\n",
            "Done!\n"
          ]
        },
        {
          "output_type": "stream",
          "name": "stdout",
          "text": [
            "Data(x=[2518, 3], y=[2518], pos=[2518, 3], category=[1], edge_index=[2, 15108])\n"
          ]
        }
      ]
    }
  ]
}